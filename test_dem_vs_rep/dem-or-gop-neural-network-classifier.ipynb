{
 "cells": [
  {
   "cell_type": "markdown",
   "metadata": {
    "_uuid": "4d2231992ae6f08777cc0c259f2209b60a724eea"
   },
   "source": [
    "## Democrat vs. Republican tweets\n",
    "### Simple neural network classification demo\n",
    "This notebook is basically my previous notebook that did classification with Naive Bayes, but using Jason Brownlee's Embedding-1D CNN-LSTM classifier from [\"Sequence Classification with LSTM Recurrent Neural Networks in Python with Keras\"](https://machinelearningmastery.com/sequence-classification-lstm-recurrent-neural-networks-python-keras/)"
   ]
  },
  {
   "cell_type": "code",
   "execution_count": 5,
   "metadata": {
    "_cell_guid": "b1076dfc-b9ad-4769-8c92-a6c4dae69d19",
    "_uuid": "8f2839f25d086af736a60e9eeb907d3b93b6e0e5"
   },
   "outputs": [],
   "source": [
    "# Load some libraries, mostly pandas & sklearn\n",
    "# but also NLTK's TweetTokenizer since we're working with Twitter data\n",
    "import numpy as np\n",
    "import pandas as pd\n",
    "\n",
    "from keras.models import Sequential\n",
    "from keras.layers import Dense\n",
    "from keras.layers import LSTM\n",
    "from keras.layers.convolutional import Conv1D\n",
    "from keras.layers.convolutional import MaxPooling1D\n",
    "from keras.layers.embeddings import Embedding\n",
    "from keras.preprocessing import sequence\n",
    "\n",
    "from nltk.tokenize.casual import TweetTokenizer\n",
    "from nltk import FreqDist\n",
    "from sklearn.model_selection import train_test_split\n",
    "from sklearn.metrics import accuracy_score\n",
    "\n",
    "# initialize tokenizer\n",
    "tokenizer = TweetTokenizer(reduce_len=True)\n",
    "\n",
    "# fix random seed for reproducibility\n",
    "np.random.seed(7)"
   ]
  },
  {
   "cell_type": "markdown",
   "metadata": {
    "_uuid": "8cb95aeba5fdc8c04b0cc50bec4fb4f04293b642"
   },
   "source": [
    "### Load the dataset\n",
    "\n",
    "First, we load everything into a Pandas DataFrame. (The dataset consists of the 200 most recent tweets, at the time of data collection, from each member of the US House of Representatives who has a Twitter account.)\n",
    "\n",
    "Then, we get an 80/20 split of *Twitter handles* in the dataset, stratified according to the Party variable. This way, we'll have roughly similar proportions of Democrats & Republicans in the training & test sets separately as in the whole dataset. Finally, we split the full dataset into train & test sets based on those Twitter handles because we don't want any individual tweeter to appear in both training & test sets."
   ]
  },
  {
   "cell_type": "code",
   "execution_count": 6,
   "metadata": {
    "_uuid": "fbd336d49909186c4cfe88a1b9573b4dd7ec4eea"
   },
   "outputs": [],
   "source": [
    "all_tweets = pd.read_csv(\"../input/ExtractedTweets.csv\")"
   ]
  },
  {
   "cell_type": "code",
   "execution_count": 7,
   "metadata": {
    "_uuid": "231cf850523f3235450064fd70af810a7c96cd07"
   },
   "outputs": [
    {
     "name": "stdout",
     "output_type": "stream",
     "text": [
      "            Party         Handle  \\\n",
      "0        Democrat  RepDarrenSoto   \n",
      "1        Democrat  RepDarrenSoto   \n",
      "2        Democrat  RepDarrenSoto   \n",
      "3        Democrat  RepDarrenSoto   \n",
      "4        Democrat  RepDarrenSoto   \n",
      "5        Democrat  RepDarrenSoto   \n",
      "6        Democrat  RepDarrenSoto   \n",
      "7        Democrat  RepDarrenSoto   \n",
      "8        Democrat  RepDarrenSoto   \n",
      "9        Democrat  RepDarrenSoto   \n",
      "10       Democrat  RepDarrenSoto   \n",
      "11       Democrat  RepDarrenSoto   \n",
      "12       Democrat  RepDarrenSoto   \n",
      "13       Democrat  RepDarrenSoto   \n",
      "14       Democrat  RepDarrenSoto   \n",
      "15       Democrat  RepDarrenSoto   \n",
      "16       Democrat  RepDarrenSoto   \n",
      "17       Democrat  RepDarrenSoto   \n",
      "18       Democrat  RepDarrenSoto   \n",
      "19       Democrat  RepDarrenSoto   \n",
      "20       Democrat  RepDarrenSoto   \n",
      "21       Democrat  RepDarrenSoto   \n",
      "22       Democrat  RepDarrenSoto   \n",
      "23       Democrat  RepDarrenSoto   \n",
      "24       Democrat  RepDarrenSoto   \n",
      "25       Democrat  RepDarrenSoto   \n",
      "26       Democrat  RepDarrenSoto   \n",
      "27       Democrat  RepDarrenSoto   \n",
      "28       Democrat  RepDarrenSoto   \n",
      "29       Democrat  RepDarrenSoto   \n",
      "...           ...            ...   \n",
      "86430  Republican    RepTomPrice   \n",
      "86431  Republican    RepTomPrice   \n",
      "86432  Republican    RepTomPrice   \n",
      "86433  Republican    RepTomPrice   \n",
      "86434  Republican    RepTomPrice   \n",
      "86435  Republican    RepTomPrice   \n",
      "86436  Republican    RepTomPrice   \n",
      "86437  Republican    RepTomPrice   \n",
      "86438  Republican    RepTomPrice   \n",
      "86439  Republican    RepTomPrice   \n",
      "86440  Republican    RepTomPrice   \n",
      "86441  Republican    RepTomPrice   \n",
      "86442  Republican    RepTomPrice   \n",
      "86443  Republican    RepTomPrice   \n",
      "86444  Republican    RepTomPrice   \n",
      "86445  Republican    RepTomPrice   \n",
      "86446  Republican    RepTomPrice   \n",
      "86447  Republican    RepTomPrice   \n",
      "86448  Republican    RepTomPrice   \n",
      "86449  Republican    RepTomPrice   \n",
      "86450  Republican    RepTomPrice   \n",
      "86451  Republican    RepTomPrice   \n",
      "86452  Republican    RepTomPrice   \n",
      "86453  Republican    RepTomPrice   \n",
      "86454  Republican    RepTomPrice   \n",
      "86455  Republican    RepTomPrice   \n",
      "86456  Republican    RepTomPrice   \n",
      "86457  Republican    RepTomPrice   \n",
      "86458  Republican    RepTomPrice   \n",
      "86459  Republican    RepTomPrice   \n",
      "\n",
      "                                                   Tweet  \n",
      "0      [51, 4, 221, 1203, 161, 3, 3265, 2, 191, 3, 77...  \n",
      "1      [11, 0, 6, 4338, 5884, 3375, 60, 0, 6895, 1675...  \n",
      "2      [11, 0, 6, 2, 1960, 0, 21, 1217, 2988, 44, 864...  \n",
      "3      [11, 0, 6, 1343, 17, 1960, 2, 87, 10, 381, 0, ...  \n",
      "4      [11, 0, 6, 1217, 1075, 1804, 13, 2538, 748, 45...  \n",
      "5      [11, 0, 6, 52, 22, 3, 42, 41, 658, 70, 3, 18, ...  \n",
      "6      [1217, 2988, 864, 8546, 72, 1635, 460, 8, 9003...  \n",
      "7      [11, 0, 6, 12, 100, 4649, 21, 1960, 30, 31, 69...  \n",
      "8      [11, 1039, 6, 627, 5707, 679, 26, 4244, 243, 2...  \n",
      "9      [11, 3214, 6, 79, 426, 0, 7, 1960, 10, 9, 1266...  \n",
      "10     [11, 0, 6, 0, 88, 639, 95, 69, 19, 1609, 929, ...  \n",
      "11     [2, 141, 1567, 512, 3, 3329, 2047, 248, 28, 40...  \n",
      "12     [52, 22, 3, 27, 1610, 9541, 7, 42, 0, 1545, 16...  \n",
      "13     [39, 820, 18, 6041, 23, 8127, 15, 998, 1715, 3...  \n",
      "14     [11, 0, 6, 168, 3, 0, 1688, 0, 0, 10, 1218, 18...  \n",
      "15     [2942, 1053, 616, 372, 273, 4539, 3, 239, 859,...  \n",
      "16     [11, 0, 6, 350, 3745, 5, 239, 4446, 8, 9542, 4...  \n",
      "17     [11, 0, 6, 3746, 1689, 70, 5, 0, 1344, 1766, 6...  \n",
      "18     [11, 0, 6, 2255, 4, 1960, 10, 617, 10, 0, 0, 3...  \n",
      "19     [7190, 185, 1580, 494, 4, 3029, 9, 137, 169, 5...  \n",
      "20     [11, 6446, 6, 2, 1960, 0, 1636, 2365, 23, 0, 1...  \n",
      "21     [11, 0, 6, 3620, 3, 206, 1960, 36, 2, 0, 0, 0,...  \n",
      "22     [11, 0, 6, 6447, 592, 8, 0, 0, 1302, 7191, 17,...  \n",
      "23     [0, 6, 2277, 1676, 5, 81, 368, 93, 1515, 15, 5...  \n",
      "24     [81, 374, 2278, 13, 0, 883, 5, 1281, 1490, 10,...  \n",
      "25     [52, 2010, 0, 10, 210, 9, 807, 10, 0, 20, 18, ...  \n",
      "26     [11, 3490, 6, 1065, 2658, 14, 9, 1366, 183, 15...  \n",
      "27     [3266, 277, 17, 7801, 3, 99, 8547, 4, 593, 803...  \n",
      "28     [11, 0, 6, 403, 0, 0, 1334, 24, 97, 2030, 1960...  \n",
      "29     [1058, 194, 8, 2338, 3, 59, 2659, 2989, 1419, ...  \n",
      "...                                                  ...  \n",
      "86430  [116, 678, 1730, 304, 4, 48, 308, 14, 730, 0, ...  \n",
      "86431  [403, 902, 5, 829, 14, 0, 0, 2516, 2, 174, 338...  \n",
      "86432  [53, 15, 19, 1567, 6, 799, 820, 0, 425, 3, 382...  \n",
      "86433  [1058, 0, 0, 35, 0, 3005, 3371, 7228, 20, 18, ...  \n",
      "86434  [25, 3107, 3, 172, 626, 73, 60, 4866, 2401, 18...  \n",
      "86435                  [191, 5, 0, 8, 0, 16, 0, 0, 0, 0]  \n",
      "86436  [11, 224, 6, 925, 0, 482, 6, 303, 14, 9, 3107,...  \n",
      "86437  [2861, 0, 49, 879, 608, 4167, 128, 15, 19, 291...  \n",
      "86438  [3340, 6984, 0, 125, 76, 2, 0, 400, 20, 353, 3...  \n",
      "86439  [2459, 6, 48, 308, 44, 0, 999, 3, 158, 5461, 5...  \n",
      "86440  [913, 2296, 33, 2696, 2, 0, 9804, 1104, 5, 107...  \n",
      "86441  [3371, 135, 223, 2120, 13, 0, 3, 6748, 0, 0, 5...  \n",
      "86442  [39, 106, 1650, 101, 2, 39, 85, 2025, 0, 7037,...  \n",
      "86443  [11, 0, 6, 52, 22, 3, 0, 1401, 135, 520, 41, 6...  \n",
      "86444  [52, 22, 3, 0, 10, 124, 17, 80, 36, 3, 99, 162...  \n",
      "86445  [355, 49, 1052, 21, 1358, 18, 5608, 16, 39, 85...  \n",
      "86446  [87, 10, 3566, 80, 230, 20, 580, 0, 8, 0, 16, ...  \n",
      "86447  [168, 3, 7815, 2, 3059, 2, 639, 0, 47, 132, 0,...  \n",
      "86448  [112, 131, 94, 5, 225, 0, 16, 472, 22, 9, 67, ...  \n",
      "86449  [112, 131, 94, 5, 225, 0, 16, 472, 22, 9, 67, ...  \n",
      "86450  [404, 1005, 20, 4733, 3995, 841, 0, 1717, 8, 2...  \n",
      "86451  [5404, 3, 594, 554, 102, 678, 114, 297, 0, 101...  \n",
      "86452  [1203, 26, 42, 222, 13, 5649, 2, 925, 0, 513, ...  \n",
      "86453  [130, 2776, 275, 70, 3, 104, 421, 20, 8185, 5,...  \n",
      "86454  [5691, 1062, 512, 6, 0, 8687, 4, 0, 1135, 20, ...  \n",
      "86455  [477, 70, 27, 886, 13, 106, 10, 3301, 2125, 0,...  \n",
      "86456  [384, 4, 9694, 20, 12, 145, 9, 67, 66, 1613, 3...  \n",
      "86457  [39, 26, 2240, 688, 10, 0, 188, 7, 1042, 5, 30...  \n",
      "86458                   [112, 131, 94, 5, 225, 0, 16, 0]  \n",
      "86459  [5649, 0, 9846, 8, 646, 2, 48, 308, 4233, 3, 6...  \n",
      "\n",
      "[86460 rows x 3 columns]\n"
     ]
    }
   ],
   "source": [
    "top_words = 10000  # We'll keep these many distinct tokens and drop less frequent ones\n",
    "\n",
    "# Tokenize using the TweetTokenizer\n",
    "all_tweets.Tweet = all_tweets.Tweet.apply(tokenizer.tokenize)\n",
    "# Get the word counts\n",
    "fdist = FreqDist(word for tweet in all_tweets.Tweet for word in tweet)\n",
    "# Get top top_words terms, in order of frequency\n",
    "terms = [term for term, count in fdist.most_common(top_words)]\n",
    "# Replace all tokens with their rank (or 0 if not in the top top_words)\n",
    "all_tweets.Tweet = all_tweets.Tweet.apply(lambda tweet: [terms.index(term) if term in terms else 0\n",
    "                                                         for term in tweet])\n",
    "print(all_tweets)"
   ]
  },
  {
   "cell_type": "code",
   "execution_count": 35,
   "metadata": {
    "_uuid": "916e88f2b1c4e9707423142492234e353af8f75c"
   },
   "outputs": [],
   "source": [
    "# Get an 80/20 train/test split of Twitter handles, stratified on Party\n",
    "tweeters = all_tweets.iloc[:,:2].drop_duplicates()\n",
    "handles = tweeters.Handle\n",
    "#print(handles)\n",
    "#handles_train, handles_test = train_test_split(tweeters.Handle, stratify=tweeters.Party, test_size=0.003, random_state=0)\n",
    "\n",
    "# extract train & test sets from the all_tweets df\n",
    "train = all_tweets[all_tweets.Handle.isin(handles)].reset_index().drop('index', axis=1)\n",
    "#test = all_tweets[all_tweets.Handle.isin(handles_test)].reset_index().drop('index', axis=1)\n",
    "#print(train)"
   ]
  },
  {
   "cell_type": "code",
   "execution_count": 36,
   "metadata": {
    "_uuid": "8ed8fab13802a66a8ab4db2cc5f6a72d343324c5"
   },
   "outputs": [],
   "source": [
    "# The purpose of this cell is just to format the data to match the format of keras.datasets.imdb\n",
    "X_train = np.array(train.Tweet)\n",
    "y_train = np.array((train.Party == 'Democrat').astype(int))\n",
    "#X_test = np.array(test.Tweet)\n",
    "#print(X_test)\n",
    "#y_test = np.array((test.Party == 'Democrat').astype(int))"
   ]
  },
  {
   "cell_type": "code",
   "execution_count": 37,
   "metadata": {
    "_uuid": "378921a68423e876e4f9038ec2af641ec5ecd755"
   },
   "outputs": [],
   "source": [
    "# truncate and pad input sequences\n",
    "max_review_length = 48 # The longest tweet is 56 tokens, and only a handfull are longer than 48\n",
    "X_train = sequence.pad_sequences(X_train, maxlen=max_review_length)\n",
    "#X_test = sequence.pad_sequences(X_test, maxlen=max_review_length)"
   ]
  },
  {
   "cell_type": "markdown",
   "metadata": {
    "_uuid": "d55fa729e6470806ffbeb8ca09da408c90de78c9"
   },
   "source": [
    "### Train & evaluate\n",
    "\n",
    "Training & evaluating the model results in ~72% accuracy on a per-tweet basis, which isn't too bad. There's probably a lot of hyperparameter tuning that could be done here."
   ]
  },
  {
   "cell_type": "code",
   "execution_count": 9,
   "metadata": {
    "_uuid": "98faae109e4b3c506bf0459f7410fa5da9526055"
   },
   "outputs": [
    {
     "name": "stdout",
     "output_type": "stream",
     "text": [
      "WARNING:tensorflow:From /Users/anyachopra/anaconda3/lib/python3.7/site-packages/keras/backend/tensorflow_backend.py:66: The name tf.get_default_graph is deprecated. Please use tf.compat.v1.get_default_graph instead.\n",
      "\n",
      "WARNING:tensorflow:From /Users/anyachopra/anaconda3/lib/python3.7/site-packages/keras/backend/tensorflow_backend.py:541: The name tf.placeholder is deprecated. Please use tf.compat.v1.placeholder instead.\n",
      "\n",
      "WARNING:tensorflow:From /Users/anyachopra/anaconda3/lib/python3.7/site-packages/keras/backend/tensorflow_backend.py:4432: The name tf.random_uniform is deprecated. Please use tf.random.uniform instead.\n",
      "\n",
      "WARNING:tensorflow:From /Users/anyachopra/anaconda3/lib/python3.7/site-packages/keras/backend/tensorflow_backend.py:4267: The name tf.nn.max_pool is deprecated. Please use tf.nn.max_pool2d instead.\n",
      "\n",
      "WARNING:tensorflow:From /Users/anyachopra/anaconda3/lib/python3.7/site-packages/keras/optimizers.py:793: The name tf.train.Optimizer is deprecated. Please use tf.compat.v1.train.Optimizer instead.\n",
      "\n",
      "WARNING:tensorflow:From /Users/anyachopra/anaconda3/lib/python3.7/site-packages/keras/backend/tensorflow_backend.py:3657: The name tf.log is deprecated. Please use tf.math.log instead.\n",
      "\n",
      "WARNING:tensorflow:From /Users/anyachopra/anaconda3/lib/python3.7/site-packages/tensorflow/python/ops/nn_impl.py:180: add_dispatch_support.<locals>.wrapper (from tensorflow.python.ops.array_ops) is deprecated and will be removed in a future version.\n",
      "Instructions for updating:\n",
      "Use tf.where in 2.0, which has the same broadcast rule as np.where\n",
      "Model: \"sequential_1\"\n",
      "_________________________________________________________________\n",
      "Layer (type)                 Output Shape              Param #   \n",
      "=================================================================\n",
      "embedding_1 (Embedding)      (None, 48, 32)            320000    \n",
      "_________________________________________________________________\n",
      "conv1d_1 (Conv1D)            (None, 48, 32)            3104      \n",
      "_________________________________________________________________\n",
      "max_pooling1d_1 (MaxPooling1 (None, 24, 32)            0         \n",
      "_________________________________________________________________\n",
      "lstm_1 (LSTM)                (None, 100)               53200     \n",
      "_________________________________________________________________\n",
      "dense_1 (Dense)              (None, 1)                 101       \n",
      "=================================================================\n",
      "Total params: 376,405\n",
      "Trainable params: 376,405\n",
      "Non-trainable params: 0\n",
      "_________________________________________________________________\n",
      "None\n",
      "WARNING:tensorflow:From /Users/anyachopra/anaconda3/lib/python3.7/site-packages/keras/backend/tensorflow_backend.py:1033: The name tf.assign_add is deprecated. Please use tf.compat.v1.assign_add instead.\n",
      "\n",
      "Epoch 1/3\n",
      "69064/69064 [==============================] - 49s 708us/step - loss: 0.4908 - acc: 0.7372\n",
      "Epoch 2/3\n",
      "69064/69064 [==============================] - 46s 662us/step - loss: 0.3638 - acc: 0.8230\n",
      "Epoch 3/3\n",
      "69064/69064 [==============================] - 60s 871us/step - loss: 0.3042 - acc: 0.8584\n",
      "Accuracy: 72.33%\n"
     ]
    }
   ],
   "source": [
    "# create the model\n",
    "embedding_vecor_length = 32\n",
    "model = Sequential()\n",
    "model.add(Embedding(top_words, embedding_vecor_length, input_length=max_review_length))\n",
    "model.add(Conv1D(filters=32, kernel_size=3, padding='same', activation='relu'))\n",
    "model.add(MaxPooling1D(pool_size=2))\n",
    "model.add(LSTM(100))\n",
    "model.add(Dense(1, activation='sigmoid'))\n",
    "model.compile(loss='binary_crossentropy', optimizer='adam', metrics=['accuracy'])\n",
    "print(model.summary())\n",
    "model.fit(X_train, y_train, epochs=3, batch_size=64)\n",
    "# Final evaluation of the model\n",
    "scores = model.evaluate(X_test, y_test, verbose=0)\n",
    "print(\"Accuracy: %.2f%%\" % (scores[1]*100))"
   ]
  },
  {
   "cell_type": "code",
   "execution_count": 10,
   "metadata": {
    "_uuid": "593582396d9c46c59db637dd07632d11a06ae455"
   },
   "outputs": [
    {
     "name": "stdout",
     "output_type": "stream",
     "text": [
      "Accuracy: 0.7233\n"
     ]
    }
   ],
   "source": [
    "preds = np.round(model.predict(X_test).ravel())\n",
    "print('Accuracy: {}'.format(str(round(accuracy_score(y_test, preds), 4))))"
   ]
  },
  {
   "cell_type": "markdown",
   "metadata": {
    "_uuid": "8b9ee6d4df79ddbbf5772a110e7ef5d2e14f6978"
   },
   "source": [
    "### Evaluate by Congressperson\n",
    "\n",
    "It's not so unusual for a single tweet to be mis-categorized, so perhaps we should consider the overall categorization of each Congressperson's tweets. With this adjustment, we get ~96% accuracy."
   ]
  },
  {
   "cell_type": "code",
   "execution_count": 11,
   "metadata": {
    "_uuid": "0427e6b1826c87735b181cd518d5396663f1e012"
   },
   "outputs": [
    {
     "name": "stdout",
     "output_type": "stream",
     "text": [
      "Congresspersons whose tweets were mostly mis-classified:\n",
      "RepVisclosky (1) classified with accuracy: 0.3959\n",
      "RepPoliquin (0) classified with accuracy: 0.39\n",
      "RepCurbelo (0) classified with accuracy: 0.49\n",
      "DanaRohrabacher (0) classified with accuracy: 0.4573\n",
      "\n",
      "Accuracy of the model on a per-Congressperson-basis was: 0.954\n"
     ]
    }
   ],
   "source": [
    "accuracy_df = test.drop(['Tweet'], axis=1)\n",
    "accuracy_df['preds'] = preds\n",
    "accuracy_df['Party'] = y_test\n",
    "correct = 0\n",
    "total = 0\n",
    "\n",
    "print(\"Congresspersons whose tweets were mostly mis-classified:\")\n",
    "for name in accuracy_df.Handle.unique():\n",
    "    sub_df = accuracy_df[accuracy_df.Handle == name].reset_index()\n",
    "    sub_preds = sub_df.preds.value_counts()\n",
    "\n",
    "    if sub_preds.index[0] == sub_df.Party[0]:\n",
    "        correct += 1\n",
    "    total += 1\n",
    "\n",
    "    if sub_preds[sub_df.Party[0]]/len(sub_df) < 0.5:\n",
    "        print(\"{} ({}) classified with accuracy: {}\".format(name, sub_df.Party[0],\n",
    "                                                                      str(round(sub_preds[sub_df.Party[0]]/len(sub_df), 4))))\n",
    "\n",
    "print()\n",
    "print(\"Accuracy of the model on a per-Congressperson-basis was: {}\".format(str(round(correct/total, 4))))"
   ]
  },
  {
   "cell_type": "code",
   "execution_count": null,
   "metadata": {
    "_uuid": "6e8c3895a42a93f83cb9d9fcbd1c8bcede3429e9",
    "collapsed": true
   },
   "outputs": [],
   "source": []
  }
 ],
 "metadata": {
  "kernelspec": {
   "display_name": "Python 3",
   "language": "python",
   "name": "python3"
  },
  "language_info": {
   "codemirror_mode": {
    "name": "ipython",
    "version": 3
   },
   "file_extension": ".py",
   "mimetype": "text/x-python",
   "name": "python",
   "nbconvert_exporter": "python",
   "pygments_lexer": "ipython3",
   "version": "3.7.4"
  }
 },
 "nbformat": 4,
 "nbformat_minor": 1
}
